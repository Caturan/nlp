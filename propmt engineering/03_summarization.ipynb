{
 "cells": [
  {
   "cell_type": "code",
   "execution_count": null,
   "metadata": {},
   "outputs": [],
   "source": [
    "import os\n",
    "from dotenv import load_dotenv\n",
    "\n",
    "# Load environment variables\n",
    "load_dotenv()\n",
    "\n",
    "import os\n",
    "from openai import AzureOpenAI\n",
    "\n",
    "CHAT_MODEL =  os.environ.get(\"OPENAI_CHAT_DEPLOYMENT_NAME\") \n",
    "\n",
    "client = AzureOpenAI(\n",
    "  api_key = os.getenv(\"OPENAI_API_KEY\"),  \n",
    "  api_version = \"2023-05-15\",\n",
    "  azure_endpoint = os.getenv(\"OPENAI_API_BASE\")\n",
    ")"
   ]
  },
  {
   "cell_type": "code",
   "execution_count": null,
   "metadata": {},
   "outputs": [],
   "source": [
    "def get_completion(prompt, model=CHAT_MODEL):\n",
    "    response = client.chat.completions.create(\n",
    "        temperature=0, # this is the degree of randomness of the model's output\n",
    "        model=\"drn-chat-dev2\", # This is currently gpt-35-turbo\n",
    "        messages=[\n",
    "            {\"role\": \"user\", \"content\": prompt}\n",
    "        ]\n",
    "    )\n",
    "    return response.choices[0].message.content"
   ]
  },
  {
   "cell_type": "markdown",
   "metadata": {},
   "source": [
    "## Intentional Summarization"
   ]
  },
  {
   "cell_type": "code",
   "execution_count": null,
   "metadata": {},
   "outputs": [],
   "source": [
    "sampletext = \"During my trip to Ireland in May, I started feeling slightly unwell. I experienced symptoms such as a sore throat and a mild cough. Once I returned home, my condition significantly deteriorated. I developed fever and felt extremely unwell. I consulted a doctor, who prescribed antibiotics for me. Although I felt better for a few days, my health soon worsened again. After two visits to the emergency room, where I received IV fluids and medications, I gradually managed to recover. The diagnosis was a viral infection, and I was informed that it would likely take a couple of weeks to fully recuperate. Here we are, end of May, and I’m still not 100 percent back to normal. I’m still feeling tired.\"\n",
    "\n",
    "prompt = f\"\"\"\n",
    "Summarize the text between two lines of triple dashes in 20 words or less.\n",
    "---\n",
    "{sampletext}\n",
    "---\n",
    "\"\"\"\n",
    "response = get_completion(prompt)\n",
    "print(response)"
   ]
  },
  {
   "cell_type": "code",
   "execution_count": null,
   "metadata": {},
   "outputs": [],
   "source": [
    "sampletext = \"During my trip to Ireland in May, I started feeling slightly unwell. I experienced symptoms such as a sore throat and a mild cough. Once I returned home, my condition significantly deteriorated. I developed fever and felt extremely unwell. I consulted a doctor, who prescribed antibiotics for me. Although I felt better for a few days, my health soon worsened again. After two visits to the emergency room, where I received IV fluids and medications, I gradually managed to recover. The diagnosis was a viral infection, and I was informed that it would likely take a couple of weeks to fully recuperate. Here we are, end of May, and I’m still not 100 percent back to normal. I’m still feeling tired.\"\n",
    "\n",
    "prompt = f\"\"\"\n",
    "Summarize the text between two lines of triple dashes in 20 words or less. Focus on the travel aspect.\n",
    "---\n",
    "{sampletext}\n",
    "---\n",
    "\"\"\"\n",
    "response = get_completion(prompt)\n",
    "print(response)"
   ]
  },
  {
   "cell_type": "markdown",
   "metadata": {},
   "source": [
    "## Extractive Summarization "
   ]
  },
  {
   "cell_type": "code",
   "execution_count": null,
   "metadata": {},
   "outputs": [],
   "source": [
    "sampletext = \"During my trip to Ireland in May, I started feeling slightly unwell. I experienced symptoms such as a sore throat and a mild cough. Once I returned home, my condition significantly deteriorated. I developed fever and felt extremely unwell. I consulted a doctor, who prescribed antibiotics for me. Although I felt better for a few days, my health soon worsened again. After two visits to the emergency room, where I received IV fluids and medications, I gradually managed to recover. The diagnosis was a viral infection, and I was informed that it would likely take a couple of weeks to fully recuperate. Here we are, end of May, and I’m still not 100 percent back to normal. I’m still feeling tired.\"\n",
    "\n",
    "prompt = f\"\"\"\n",
    "Extract relevant information from between two lines of triple dashes in 20 words or less. Focus on the travel aspect.\n",
    "---\n",
    "{sampletext}\n",
    "---\n",
    "\"\"\"\n",
    "response = get_completion(prompt)\n",
    "print(response)"
   ]
  }
 ],
 "metadata": {
  "language_info": {
   "name": "python"
  }
 },
 "nbformat": 4,
 "nbformat_minor": 2
}
