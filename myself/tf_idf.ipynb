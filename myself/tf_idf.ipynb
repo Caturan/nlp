{
 "cells": [
  {
   "cell_type": "markdown",
   "metadata": {},
   "source": [
    "TF-IDF (term frequency-inverse document frequency), sözcüğün bulunduğu dökümanı ne kadar temsil ettiğini gösteren ibr istatiksel değerdir."
   ]
  },
  {
   "cell_type": "markdown",
   "metadata": {},
   "source": [
    "TF (Term Frequency):\n",
    "- İlgili kelimenin dökümandaki frekansıdır. Kelimenin dökümanda geçme sayısını, dökümandaki toplam kelime sayısına bölerek elde edilir. "
   ]
  },
  {
   "cell_type": "markdown",
   "metadata": {},
   "source": [
    "DF (Document Frequency):\n",
    "- TF ile benzemektedir ama bu kez diğer dökümanlara odaklanır. Döküman saysının ilgili kelimenin geçtiği döküman sayısına bölünmesi ile hesaplanır. \n",
    " "
   ]
  },
  {
   "cell_type": "markdown",
   "metadata": {},
   "source": [
    "IDF (Inverse Document Frequency):\n",
    "- DF değerinin logaritması alınarak hesaplanır. \n",
    "- Bir kelime diğer dökümanlara ne kadar sık geçiyorsa DF değeri artar, IDF değeri o kadar azalır. "
   ]
  },
  {
   "cell_type": "code",
   "execution_count": 2,
   "metadata": {},
   "outputs": [],
   "source": [
    "doc1 = \"a a b c\"\n",
    "doc2 = \"a c c c d e f\"\n",
    "doc3 = \"a c d d d\"\n",
    "doc4 = \"a d f\""
   ]
  },
  {
   "cell_type": "markdown",
   "metadata": {},
   "source": [
    "### Problem 1: D anahtar kelimesinin 3.dökümanı ne denli temsil ettiğini bulalım yani tf-idf değerini bulalım. "
   ]
  },
  {
   "cell_type": "code",
   "execution_count": 3,
   "metadata": {},
   "outputs": [],
   "source": [
    "key = \"d\""
   ]
  },
  {
   "cell_type": "code",
   "execution_count": 4,
   "metadata": {},
   "outputs": [],
   "source": [
    "# Dökümanlarımızın tipi string. Daha kolay işlem yapabilmek için liste haline getirelim. \n",
    "doc1 = doc1.split(\" \")\n",
    "doc2 = doc2.split(\" \")\n",
    "doc3 = doc3.split(\" \")\n",
    "doc4 = doc4.split(\" \")"
   ]
  },
  {
   "cell_type": "code",
   "execution_count": 5,
   "metadata": {},
   "outputs": [
    {
     "name": "stdout",
     "output_type": "stream",
     "text": [
      "0.6\n"
     ]
    }
   ],
   "source": [
    "# TF değerini hesaplayalım. \n",
    "TF = doc3.count(key) / len(doc3) # 3 / 5 = 0.6\n",
    "print(TF)"
   ]
  },
  {
   "cell_type": "code",
   "execution_count": 6,
   "metadata": {},
   "outputs": [
    {
     "name": "stdout",
     "output_type": "stream",
     "text": [
      "3\n"
     ]
    }
   ],
   "source": [
    "# Kelimenin kaç dokümanda geçtiğini hesaplayalım. \n",
    "all_documents = [doc1, doc2, doc3, doc4] # tüm dokümanları birleştirir \n",
    "count = 0 \n",
    "for doc in all_documents:\n",
    "    for word in doc:\n",
    "        if word == key:\n",
    "            count += 1\n",
    "            break \n",
    "print(count)"
   ]
  },
  {
   "cell_type": "code",
   "execution_count": 7,
   "metadata": {},
   "outputs": [
    {
     "name": "stdout",
     "output_type": "stream",
     "text": [
      "1.3333333333333333\n",
      "0.12493873660829993\n"
     ]
    }
   ],
   "source": [
    "# Toplam doküman sayısını ve bulduğumuz değeri logaritmaya sokarak IDF değerini hesaplayalım. \n",
    "total_doc_number = len(all_documents)\n",
    "DF = total_doc_number / count\n",
    "print(DF)\n",
    "from math import log10 \n",
    "IDF = log10(DF)\n",
    "print(IDF)"
   ]
  },
  {
   "cell_type": "code",
   "execution_count": 8,
   "metadata": {},
   "outputs": [
    {
     "data": {
      "text/plain": [
       "0.07496324196497996"
      ]
     },
     "execution_count": 8,
     "metadata": {},
     "output_type": "execute_result"
    }
   ],
   "source": [
    "# Finally, let see TF-IDF result \n",
    "TF * IDF "
   ]
  },
  {
   "cell_type": "markdown",
   "metadata": {},
   "source": [
    "### Problem 2: F anahtar kelimesinin 2.doküman için tf-idf değerini bulalım. "
   ]
  },
  {
   "cell_type": "code",
   "execution_count": 11,
   "metadata": {},
   "outputs": [
    {
     "name": "stdout",
     "output_type": "stream",
     "text": [
      "0.3333333333333333\n",
      "0.3010299956639812\n"
     ]
    },
    {
     "data": {
      "text/plain": [
       "0.10034333188799373"
      ]
     },
     "execution_count": 11,
     "metadata": {},
     "output_type": "execute_result"
    }
   ],
   "source": [
    "key = \"f\"\n",
    "\n",
    "# TF \n",
    "TF = doc4.count(key) / len(doc4)\n",
    "print(TF)\n",
    "\n",
    "# IDF \n",
    "all_documents = [doc1, doc2, doc3, doc4]\n",
    "count = 0 \n",
    "for doc in all_documents:\n",
    "    for word in doc:\n",
    "        if word == key:\n",
    "            count += 1 \n",
    "            break \n",
    "\n",
    "total_doc_number = len(all_documents)\n",
    "DF = total_doc_number / count \n",
    "\n",
    "from math import log10 \n",
    "IDF = log10(DF)\n",
    "print(IDF)\n",
    "\n",
    "TF * IDF "
   ]
  },
  {
   "cell_type": "markdown",
   "metadata": {},
   "source": [
    "- Görüldüğü üzere 3 ayrı dökümanda geçen D daha düşük tf-idf değerine sahipken, 2 ayrı dökümanda geçen F daha yüksek tf-idf elde etti. İlgili dökümanlarda geçme sayılarını da unutmayalım. "
   ]
  }
 ],
 "metadata": {
  "kernelspec": {
   "display_name": "Python 3",
   "language": "python",
   "name": "python3"
  },
  "language_info": {
   "codemirror_mode": {
    "name": "ipython",
    "version": 3
   },
   "file_extension": ".py",
   "mimetype": "text/x-python",
   "name": "python",
   "nbconvert_exporter": "python",
   "pygments_lexer": "ipython3",
   "version": "3.10.8"
  }
 },
 "nbformat": 4,
 "nbformat_minor": 2
}
