{
 "cells": [
  {
   "cell_type": "markdown",
   "metadata": {},
   "source": [
    "# One Hot Encoding"
   ]
  },
  {
   "cell_type": "markdown",
   "metadata": {},
   "source": [
    "One hot encoding is a technique that we use to represent categorical variables as numerical values in a machine learning model. "
   ]
  },
  {
   "cell_type": "markdown",
   "metadata": {},
   "source": [
    "### The advantages of using one hot encooding include:\n",
    "1. It allows the use of categorical variables in models that require numerical input. \n",
    "2. It can improve model performance by providing more information to the model about the categorical variable. \n",
    "3. It can help to avoid the problem of ordinality, which can occur when a categorical variable has a natural ordering (e.g \"small\", \"medium\", \"large\")."
   ]
  },
  {
   "cell_type": "markdown",
   "metadata": {},
   "source": [
    "### The disadvatage of using one hot encoding include: \n",
    "1. It can lead to increased dimensionality, as a seperate column is created. \n",
    "2. It can lead to sparse data, as most observations will have a value of 0 in most of the one-hot encoded columns. \n",
    "3. It can lead to sparse data, as most observations will have a value of 0 in most of the one-hot-encoded columns. \n",
    "4. One-hot-encoding is a powerful technique to treat categorical data, but it can lead to increased dimensionality, sparsity, and overlifting. It is important to use it cautiously and consider other methods such as ordinal encoding or binary encoding. "
   ]
  },
  {
   "cell_type": "markdown",
   "metadata": {},
   "source": [
    "### One Hot Encoding using Sci-kit Learn Library \n",
    "- Scikit-learn(sklearn) is a popular machine-learning library in Python that provide numerous tools for data preprocessing. It provides a OneHotEncoder function that we use for encoding categorical and numerical variables into binary vectors. "
   ]
  },
  {
   "cell_type": "code",
   "execution_count": 6,
   "metadata": {},
   "outputs": [
    {
     "name": "stdout",
     "output_type": "stream",
     "text": [
      "Employee data : \n",
      "   Employee id  Gender Remarks\n",
      "0            10      M    Good\n",
      "1            20      F    Nice\n",
      "2            15      F    Good\n",
      "3            25      M   Great\n",
      "4            30      F    Nice\n",
      "Encoded Employee data : \n",
      "   Employee id   Gender_F  Gender_M  Remarks_Good  Remarks_Great  Remarks_Nice\n",
      "0            10       0.0       1.0           1.0            0.0           0.0\n",
      "1            20       1.0       0.0           0.0            0.0           1.0\n",
      "2            15       1.0       0.0           1.0            0.0           0.0\n",
      "3            25       0.0       1.0           0.0            1.0           0.0\n",
      "4            30       1.0       0.0           0.0            0.0           1.0\n"
     ]
    }
   ],
   "source": [
    "import pandas as pd \n",
    "from sklearn.preprocessing import OneHotEncoder\n",
    "\n",
    "# Building a dummy employee dataset for example \n",
    "data = {\n",
    "    'Employee id ': [10,20,15,25,30],\n",
    "    'Gender': ['M', 'F', 'F', 'M', 'F'],\n",
    "    'Remarks': ['Good', 'Nice', 'Good', 'Great', 'Nice'],\n",
    "}\n",
    "\n",
    "# Converting into a Pandas dataframe \n",
    "df = pd.DataFrame(data)\n",
    "print(f\"Employee data : \\n{df}\")\n",
    "\n",
    "# Extract categorical columns from the dataframe \n",
    "# Here we extract the columns with object datatype as they are the categorical columns \n",
    "categorical_columns = df.select_dtypes(include=['object']).columns.tolist()\n",
    "\n",
    "# Initialize OneHotEncoder \n",
    "encoder = OneHotEncoder(sparse_output=False)\n",
    "\n",
    "# Apply one-hot encoding to the categorical columns \n",
    "one_hot_encoded = encoder.fit_transform(df[categorical_columns])\n",
    "\n",
    "# Create a DataFrame with the one-hot encoded columns \n",
    "# We use get_feature_names_out() to get the columns names for the encoded data \n",
    "one_hot_df = pd.DataFrame(one_hot_encoded,\n",
    "columns=encoder.get_feature_names_out(categorical_columns))\n",
    "\n",
    "# Concatenate the one-hot encoded dataframe with the original dataframe \n",
    "df_encoded = pd.concat([df, one_hot_df], axis=1)\n",
    "\n",
    "df_encoded = df_encoded.drop(categorical_columns, axis=1)\n",
    "\n",
    "# Display the resulting dataframe \n",
    "print(f\"Encoded Employee data : \\n{df_encoded}\")\n",
    "\n"
   ]
  },
  {
   "cell_type": "markdown",
   "metadata": {},
   "source": [
    "### It is used in a way where there is not much verbal data diversity and there is no need to see the semantic and quantity representation between the data."
   ]
  }
 ],
 "metadata": {
  "kernelspec": {
   "display_name": "Python 3",
   "language": "python",
   "name": "python3"
  },
  "language_info": {
   "codemirror_mode": {
    "name": "ipython",
    "version": 3
   },
   "file_extension": ".py",
   "mimetype": "text/x-python",
   "name": "python",
   "nbconvert_exporter": "python",
   "pygments_lexer": "ipython3",
   "version": "3.10.8"
  }
 },
 "nbformat": 4,
 "nbformat_minor": 2
}
